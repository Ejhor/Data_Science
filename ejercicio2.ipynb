{
 "cells": [
  {
   "cell_type": "code",
   "execution_count": 1,
   "metadata": {
    "scrolled": true
   },
   "outputs": [
    {
     "name": "stdout",
     "output_type": "stream",
     "text": [
      "Populating the interactive namespace from numpy and matplotlib\n"
     ]
    }
   ],
   "source": [
    "%pylab inline"
   ]
  },
  {
   "cell_type": "code",
   "execution_count": 2,
   "metadata": {},
   "outputs": [],
   "source": [
    "import pandas as pd\n",
    "import numpy as np\n",
    "import matplotlib as plt\n",
    "df = pd.read_csv(\"\\Users\\Usuario\\Jhordan\\epidural_edit.csv\")\n",
    "#Reading the dataset in a dataframe using Pandas"
   ]
  },
  {
   "cell_type": "code",
   "execution_count": 3,
   "metadata": {
    "scrolled": false
   },
   "outputs": [
    {
     "data": {
      "text/html": [
       "<div>\n",
       "<style scoped>\n",
       "    .dataframe tbody tr th:only-of-type {\n",
       "        vertical-align: middle;\n",
       "    }\n",
       "\n",
       "    .dataframe tbody tr th {\n",
       "        vertical-align: top;\n",
       "    }\n",
       "\n",
       "    .dataframe thead th {\n",
       "        text-align: right;\n",
       "    }\n",
       "</style>\n",
       "<table border=\"1\" class=\"dataframe\">\n",
       "  <thead>\n",
       "    <tr style=\"text-align: right;\">\n",
       "      <th></th>\n",
       "      <th>Unnamed: 0</th>\n",
       "      <th>ID</th>\n",
       "      <th>edad</th>\n",
       "      <th>PESONAC</th>\n",
       "      <th>TIPOPAR</th>\n",
       "      <th>OXITOCIN</th>\n",
       "      <th>EPIDURAL</th>\n",
       "      <th>TEMP1</th>\n",
       "      <th>TEMP2</th>\n",
       "      <th>DILATACI</th>\n",
       "      <th>EXPULSIV</th>\n",
       "      <th>APGAR1</th>\n",
       "      <th>APGAR2</th>\n",
       "    </tr>\n",
       "  </thead>\n",
       "  <tbody>\n",
       "    <tr>\n",
       "      <th>0</th>\n",
       "      <td>1</td>\n",
       "      <td>3</td>\n",
       "      <td>26</td>\n",
       "      <td>3990.0</td>\n",
       "      <td>instrumental</td>\n",
       "      <td>no</td>\n",
       "      <td>si</td>\n",
       "      <td>36.4</td>\n",
       "      <td>38.8</td>\n",
       "      <td>358.400000</td>\n",
       "      <td>44.800000</td>\n",
       "      <td>8</td>\n",
       "      <td>9</td>\n",
       "    </tr>\n",
       "    <tr>\n",
       "      <th>1</th>\n",
       "      <td>2</td>\n",
       "      <td>4</td>\n",
       "      <td>31</td>\n",
       "      <td>2438.0</td>\n",
       "      <td>instrumental</td>\n",
       "      <td>no</td>\n",
       "      <td>no</td>\n",
       "      <td>36.5</td>\n",
       "      <td>37.5</td>\n",
       "      <td>183.518006</td>\n",
       "      <td>22.939751</td>\n",
       "      <td>8</td>\n",
       "      <td>9</td>\n",
       "    </tr>\n",
       "    <tr>\n",
       "      <th>2</th>\n",
       "      <td>3</td>\n",
       "      <td>10</td>\n",
       "      <td>29</td>\n",
       "      <td>2880.0</td>\n",
       "      <td>instrumental</td>\n",
       "      <td>no</td>\n",
       "      <td>no</td>\n",
       "      <td>36.5</td>\n",
       "      <td>35.9</td>\n",
       "      <td>205.095337</td>\n",
       "      <td>25.636917</td>\n",
       "      <td>8</td>\n",
       "      <td>9</td>\n",
       "    </tr>\n",
       "    <tr>\n",
       "      <th>3</th>\n",
       "      <td>4</td>\n",
       "      <td>11</td>\n",
       "      <td>25</td>\n",
       "      <td>4134.0</td>\n",
       "      <td>instrumental</td>\n",
       "      <td>no</td>\n",
       "      <td>no</td>\n",
       "      <td>36.4</td>\n",
       "      <td>36.6</td>\n",
       "      <td>240.731453</td>\n",
       "      <td>30.091432</td>\n",
       "      <td>8</td>\n",
       "      <td>9</td>\n",
       "    </tr>\n",
       "    <tr>\n",
       "      <th>4</th>\n",
       "      <td>5</td>\n",
       "      <td>12</td>\n",
       "      <td>27</td>\n",
       "      <td>2576.0</td>\n",
       "      <td>instrumental</td>\n",
       "      <td>no</td>\n",
       "      <td>no</td>\n",
       "      <td>37.0</td>\n",
       "      <td>36.4</td>\n",
       "      <td>181.751795</td>\n",
       "      <td>22.718974</td>\n",
       "      <td>8</td>\n",
       "      <td>9</td>\n",
       "    </tr>\n",
       "  </tbody>\n",
       "</table>\n",
       "</div>"
      ],
      "text/plain": [
       "   Unnamed: 0  ID  edad  PESONAC       TIPOPAR OXITOCIN EPIDURAL  TEMP1  \\\n",
       "0           1   3    26   3990.0  instrumental       no       si   36.4   \n",
       "1           2   4    31   2438.0  instrumental       no       no   36.5   \n",
       "2           3  10    29   2880.0  instrumental       no       no   36.5   \n",
       "3           4  11    25   4134.0  instrumental       no       no   36.4   \n",
       "4           5  12    27   2576.0  instrumental       no       no   37.0   \n",
       "\n",
       "   TEMP2    DILATACI   EXPULSIV  APGAR1  APGAR2  \n",
       "0   38.8  358.400000  44.800000       8       9  \n",
       "1   37.5  183.518006  22.939751       8       9  \n",
       "2   35.9  205.095337  25.636917       8       9  \n",
       "3   36.6  240.731453  30.091432       8       9  \n",
       "4   36.4  181.751795  22.718974       8       9  "
      ]
     },
     "execution_count": 3,
     "metadata": {},
     "output_type": "execute_result"
    }
   ],
   "source": [
    "df.head()"
   ]
  },
  {
   "cell_type": "markdown",
   "metadata": {},
   "source": [
    "# Inciso A"
   ]
  },
  {
   "cell_type": "code",
   "execution_count": 4,
   "metadata": {
    "scrolled": true
   },
   "outputs": [
    {
     "data": {
      "text/html": [
       "<div>\n",
       "<style scoped>\n",
       "    .dataframe tbody tr th:only-of-type {\n",
       "        vertical-align: middle;\n",
       "    }\n",
       "\n",
       "    .dataframe tbody tr th {\n",
       "        vertical-align: top;\n",
       "    }\n",
       "\n",
       "    .dataframe thead th {\n",
       "        text-align: right;\n",
       "    }\n",
       "</style>\n",
       "<table border=\"1\" class=\"dataframe\">\n",
       "  <thead>\n",
       "    <tr style=\"text-align: right;\">\n",
       "      <th></th>\n",
       "      <th>Unnamed: 0</th>\n",
       "      <th>ID</th>\n",
       "      <th>edad</th>\n",
       "      <th>PESONAC</th>\n",
       "      <th>TEMP1</th>\n",
       "      <th>TEMP2</th>\n",
       "      <th>DILATACI</th>\n",
       "      <th>EXPULSIV</th>\n",
       "      <th>APGAR1</th>\n",
       "      <th>APGAR2</th>\n",
       "    </tr>\n",
       "  </thead>\n",
       "  <tbody>\n",
       "    <tr>\n",
       "      <th>count</th>\n",
       "      <td>731.000000</td>\n",
       "      <td>731.000000</td>\n",
       "      <td>731.000000</td>\n",
       "      <td>731.000000</td>\n",
       "      <td>731.000000</td>\n",
       "      <td>731.000000</td>\n",
       "      <td>731.000000</td>\n",
       "      <td>731.000000</td>\n",
       "      <td>731.000000</td>\n",
       "      <td>731.000000</td>\n",
       "    </tr>\n",
       "    <tr>\n",
       "      <th>mean</th>\n",
       "      <td>366.000000</td>\n",
       "      <td>517.818057</td>\n",
       "      <td>27.679891</td>\n",
       "      <td>3496.801642</td>\n",
       "      <td>36.469494</td>\n",
       "      <td>36.774419</td>\n",
       "      <td>229.974365</td>\n",
       "      <td>28.746796</td>\n",
       "      <td>8.413133</td>\n",
       "      <td>9.421341</td>\n",
       "    </tr>\n",
       "    <tr>\n",
       "      <th>std</th>\n",
       "      <td>211.165812</td>\n",
       "      <td>290.941680</td>\n",
       "      <td>3.590912</td>\n",
       "      <td>617.460813</td>\n",
       "      <td>0.261161</td>\n",
       "      <td>0.759354</td>\n",
       "      <td>51.483565</td>\n",
       "      <td>6.435446</td>\n",
       "      <td>0.509141</td>\n",
       "      <td>0.536640</td>\n",
       "    </tr>\n",
       "    <tr>\n",
       "      <th>min</th>\n",
       "      <td>1.000000</td>\n",
       "      <td>3.000000</td>\n",
       "      <td>19.000000</td>\n",
       "      <td>1980.000000</td>\n",
       "      <td>35.900000</td>\n",
       "      <td>35.900000</td>\n",
       "      <td>137.688694</td>\n",
       "      <td>17.211087</td>\n",
       "      <td>7.000000</td>\n",
       "      <td>8.000000</td>\n",
       "    </tr>\n",
       "    <tr>\n",
       "      <th>25%</th>\n",
       "      <td>183.500000</td>\n",
       "      <td>273.500000</td>\n",
       "      <td>25.000000</td>\n",
       "      <td>3031.500000</td>\n",
       "      <td>36.400000</td>\n",
       "      <td>36.400000</td>\n",
       "      <td>198.392304</td>\n",
       "      <td>24.799038</td>\n",
       "      <td>8.000000</td>\n",
       "      <td>9.000000</td>\n",
       "    </tr>\n",
       "    <tr>\n",
       "      <th>50%</th>\n",
       "      <td>366.000000</td>\n",
       "      <td>520.000000</td>\n",
       "      <td>27.000000</td>\n",
       "      <td>3473.000000</td>\n",
       "      <td>36.500000</td>\n",
       "      <td>36.500000</td>\n",
       "      <td>220.312500</td>\n",
       "      <td>27.539062</td>\n",
       "      <td>8.000000</td>\n",
       "      <td>9.000000</td>\n",
       "    </tr>\n",
       "    <tr>\n",
       "      <th>75%</th>\n",
       "      <td>548.500000</td>\n",
       "      <td>765.500000</td>\n",
       "      <td>30.000000</td>\n",
       "      <td>3960.750000</td>\n",
       "      <td>36.600000</td>\n",
       "      <td>36.800000</td>\n",
       "      <td>245.952042</td>\n",
       "      <td>30.744005</td>\n",
       "      <td>9.000000</td>\n",
       "      <td>10.000000</td>\n",
       "    </tr>\n",
       "    <tr>\n",
       "      <th>max</th>\n",
       "      <td>731.000000</td>\n",
       "      <td>1033.000000</td>\n",
       "      <td>45.000000</td>\n",
       "      <td>4743.000000</td>\n",
       "      <td>37.000000</td>\n",
       "      <td>39.300000</td>\n",
       "      <td>480.000000</td>\n",
       "      <td>60.000000</td>\n",
       "      <td>9.000000</td>\n",
       "      <td>10.000000</td>\n",
       "    </tr>\n",
       "  </tbody>\n",
       "</table>\n",
       "</div>"
      ],
      "text/plain": [
       "       Unnamed: 0           ID        edad      PESONAC       TEMP1  \\\n",
       "count  731.000000   731.000000  731.000000   731.000000  731.000000   \n",
       "mean   366.000000   517.818057   27.679891  3496.801642   36.469494   \n",
       "std    211.165812   290.941680    3.590912   617.460813    0.261161   \n",
       "min      1.000000     3.000000   19.000000  1980.000000   35.900000   \n",
       "25%    183.500000   273.500000   25.000000  3031.500000   36.400000   \n",
       "50%    366.000000   520.000000   27.000000  3473.000000   36.500000   \n",
       "75%    548.500000   765.500000   30.000000  3960.750000   36.600000   \n",
       "max    731.000000  1033.000000   45.000000  4743.000000   37.000000   \n",
       "\n",
       "            TEMP2    DILATACI    EXPULSIV      APGAR1      APGAR2  \n",
       "count  731.000000  731.000000  731.000000  731.000000  731.000000  \n",
       "mean    36.774419  229.974365   28.746796    8.413133    9.421341  \n",
       "std      0.759354   51.483565    6.435446    0.509141    0.536640  \n",
       "min     35.900000  137.688694   17.211087    7.000000    8.000000  \n",
       "25%     36.400000  198.392304   24.799038    8.000000    9.000000  \n",
       "50%     36.500000  220.312500   27.539062    8.000000    9.000000  \n",
       "75%     36.800000  245.952042   30.744005    9.000000   10.000000  \n",
       "max     39.300000  480.000000   60.000000    9.000000   10.000000  "
      ]
     },
     "execution_count": 4,
     "metadata": {},
     "output_type": "execute_result"
    }
   ],
   "source": [
    "df.describe()"
   ]
  },
  {
   "cell_type": "code",
   "execution_count": 5,
   "metadata": {
    "scrolled": false
   },
   "outputs": [
    {
     "data": {
      "image/png": "[encoded data removed]",
      "text/plain": [
       "<Figure size 432x288 with 1 Axes>"
      ]
     },
     "metadata": {
      "needs_background": "light"
     },
     "output_type": "display_data"
    }
   ],
   "source": [
    "h1 = df['edad'].hist(bins=27)"
   ]
  },
  {
   "cell_type": "code",
   "execution_count": 6,
   "metadata": {
    "scrolled": true
   },
   "outputs": [
    {
     "data": {
      "image/png": "[encoded data removed]",
      "text/plain": [
       "<Figure size 432x288 with 1 Axes>"
      ]
     },
     "metadata": {
      "needs_background": "light"
     },
     "output_type": "display_data"
    }
   ],
   "source": [
    "h2 = df['PESONAC'].hist(bins=28)"
   ]
  },
  {
   "cell_type": "code",
   "execution_count": 7,
   "metadata": {},
   "outputs": [
    {
     "data": {
      "text/plain": [
       "inducido        326\n",
       "instrumental    235\n",
       "cesarea         170\n",
       "Name: TIPOPAR, dtype: int64"
      ]
     },
     "execution_count": 7,
     "metadata": {},
     "output_type": "execute_result"
    }
   ],
   "source": [
    "df['TIPOPAR'].value_counts()"
   ]
  },
  {
   "cell_type": "code",
   "execution_count": 8,
   "metadata": {},
   "outputs": [
    {
     "data": {
      "text/plain": [
       "inducido        0.445964\n",
       "instrumental    0.321477\n",
       "cesarea         0.232558\n",
       "Name: TIPOPAR, dtype: float64"
      ]
     },
     "execution_count": 8,
     "metadata": {},
     "output_type": "execute_result"
    }
   ],
   "source": [
    "df['TIPOPAR'].value_counts(normalize=True)"
   ]
  },
  {
   "cell_type": "code",
   "execution_count": 9,
   "metadata": {},
   "outputs": [
    {
     "data": {
      "text/plain": [
       "no    617\n",
       "si    114\n",
       "Name: OXITOCIN, dtype: int64"
      ]
     },
     "execution_count": 9,
     "metadata": {},
     "output_type": "execute_result"
    }
   ],
   "source": [
    "df['OXITOCIN'].value_counts()"
   ]
  },
  {
   "cell_type": "code",
   "execution_count": 10,
   "metadata": {},
   "outputs": [
    {
     "data": {
      "text/plain": [
       "no    0.844049\n",
       "si    0.155951\n",
       "Name: OXITOCIN, dtype: float64"
      ]
     },
     "execution_count": 10,
     "metadata": {},
     "output_type": "execute_result"
    }
   ],
   "source": [
    "df['OXITOCIN'].value_counts(normalize=True)"
   ]
  },
  {
   "cell_type": "markdown",
   "metadata": {},
   "source": [
    "# Inciso B"
   ]
  },
  {
   "cell_type": "code",
   "execution_count": 11,
   "metadata": {},
   "outputs": [
    {
     "data": {
      "text/html": [
       "<div>\n",
       "<style scoped>\n",
       "    .dataframe tbody tr th:only-of-type {\n",
       "        vertical-align: middle;\n",
       "    }\n",
       "\n",
       "    .dataframe tbody tr th {\n",
       "        vertical-align: top;\n",
       "    }\n",
       "\n",
       "    .dataframe thead th {\n",
       "        text-align: right;\n",
       "    }\n",
       "</style>\n",
       "<table border=\"1\" class=\"dataframe\">\n",
       "  <thead>\n",
       "    <tr style=\"text-align: right;\">\n",
       "      <th></th>\n",
       "      <th>Unnamed: 0</th>\n",
       "      <th>ID</th>\n",
       "      <th>edad</th>\n",
       "      <th>PESONAC</th>\n",
       "      <th>TEMP1</th>\n",
       "      <th>TEMP2</th>\n",
       "      <th>DILATACI</th>\n",
       "      <th>EXPULSIV</th>\n",
       "      <th>APGAR1</th>\n",
       "      <th>APGAR2</th>\n",
       "    </tr>\n",
       "  </thead>\n",
       "  <tbody>\n",
       "    <tr>\n",
       "      <th>count</th>\n",
       "      <td>77.000000</td>\n",
       "      <td>77.000000</td>\n",
       "      <td>77.000000</td>\n",
       "      <td>77.000000</td>\n",
       "      <td>77.000000</td>\n",
       "      <td>77.000000</td>\n",
       "      <td>77.000000</td>\n",
       "      <td>77.000000</td>\n",
       "      <td>77.000000</td>\n",
       "      <td>77.000000</td>\n",
       "    </tr>\n",
       "    <tr>\n",
       "      <th>mean</th>\n",
       "      <td>416.415584</td>\n",
       "      <td>587.584416</td>\n",
       "      <td>27.441558</td>\n",
       "      <td>3623.931169</td>\n",
       "      <td>36.501299</td>\n",
       "      <td>38.049351</td>\n",
       "      <td>330.698345</td>\n",
       "      <td>41.337293</td>\n",
       "      <td>8.415584</td>\n",
       "      <td>9.441558</td>\n",
       "    </tr>\n",
       "    <tr>\n",
       "      <th>std</th>\n",
       "      <td>228.181965</td>\n",
       "      <td>315.160918</td>\n",
       "      <td>3.679579</td>\n",
       "      <td>608.281392</td>\n",
       "      <td>0.248413</td>\n",
       "      <td>0.826951</td>\n",
       "      <td>74.336069</td>\n",
       "      <td>9.292009</td>\n",
       "      <td>0.521906</td>\n",
       "      <td>0.549964</td>\n",
       "    </tr>\n",
       "    <tr>\n",
       "      <th>min</th>\n",
       "      <td>1.000000</td>\n",
       "      <td>3.000000</td>\n",
       "      <td>19.000000</td>\n",
       "      <td>2550.000000</td>\n",
       "      <td>35.900000</td>\n",
       "      <td>35.900000</td>\n",
       "      <td>205.234979</td>\n",
       "      <td>25.654372</td>\n",
       "      <td>7.000000</td>\n",
       "      <td>8.000000</td>\n",
       "    </tr>\n",
       "    <tr>\n",
       "      <th>25%</th>\n",
       "      <td>222.000000</td>\n",
       "      <td>321.000000</td>\n",
       "      <td>25.000000</td>\n",
       "      <td>3109.500000</td>\n",
       "      <td>36.400000</td>\n",
       "      <td>37.900000</td>\n",
       "      <td>272.000000</td>\n",
       "      <td>34.000000</td>\n",
       "      <td>8.000000</td>\n",
       "      <td>9.000000</td>\n",
       "    </tr>\n",
       "    <tr>\n",
       "      <th>50%</th>\n",
       "      <td>462.000000</td>\n",
       "      <td>645.000000</td>\n",
       "      <td>27.000000</td>\n",
       "      <td>3553.200000</td>\n",
       "      <td>36.500000</td>\n",
       "      <td>38.100000</td>\n",
       "      <td>320.000000</td>\n",
       "      <td>40.000000</td>\n",
       "      <td>8.000000</td>\n",
       "      <td>9.000000</td>\n",
       "    </tr>\n",
       "    <tr>\n",
       "      <th>75%</th>\n",
       "      <td>635.000000</td>\n",
       "      <td>887.000000</td>\n",
       "      <td>29.000000</td>\n",
       "      <td>4104.000000</td>\n",
       "      <td>36.700000</td>\n",
       "      <td>38.600000</td>\n",
       "      <td>376.000000</td>\n",
       "      <td>47.000000</td>\n",
       "      <td>9.000000</td>\n",
       "      <td>10.000000</td>\n",
       "    </tr>\n",
       "    <tr>\n",
       "      <th>max</th>\n",
       "      <td>727.000000</td>\n",
       "      <td>1026.000000</td>\n",
       "      <td>40.000000</td>\n",
       "      <td>4722.000000</td>\n",
       "      <td>37.000000</td>\n",
       "      <td>39.300000</td>\n",
       "      <td>480.000000</td>\n",
       "      <td>60.000000</td>\n",
       "      <td>9.000000</td>\n",
       "      <td>10.000000</td>\n",
       "    </tr>\n",
       "  </tbody>\n",
       "</table>\n",
       "</div>"
      ],
      "text/plain": [
       "       Unnamed: 0           ID       edad      PESONAC      TEMP1      TEMP2  \\\n",
       "count   77.000000    77.000000  77.000000    77.000000  77.000000  77.000000   \n",
       "mean   416.415584   587.584416  27.441558  3623.931169  36.501299  38.049351   \n",
       "std    228.181965   315.160918   3.679579   608.281392   0.248413   0.826951   \n",
       "min      1.000000     3.000000  19.000000  2550.000000  35.900000  35.900000   \n",
       "25%    222.000000   321.000000  25.000000  3109.500000  36.400000  37.900000   \n",
       "50%    462.000000   645.000000  27.000000  3553.200000  36.500000  38.100000   \n",
       "75%    635.000000   887.000000  29.000000  4104.000000  36.700000  38.600000   \n",
       "max    727.000000  1026.000000  40.000000  4722.000000  37.000000  39.300000   \n",
       "\n",
       "         DILATACI   EXPULSIV     APGAR1     APGAR2  \n",
       "count   77.000000  77.000000  77.000000  77.000000  \n",
       "mean   330.698345  41.337293   8.415584   9.441558  \n",
       "std     74.336069   9.292009   0.521906   0.549964  \n",
       "min    205.234979  25.654372   7.000000   8.000000  \n",
       "25%    272.000000  34.000000   8.000000   9.000000  \n",
       "50%    320.000000  40.000000   8.000000   9.000000  \n",
       "75%    376.000000  47.000000   9.000000  10.000000  \n",
       "max    480.000000  60.000000   9.000000  10.000000  "
      ]
     },
     "execution_count": 11,
     "metadata": {},
     "output_type": "execute_result"
    }
   ],
   "source": [
    "#Mujeres que se aplicaron epidural\n",
    "esi = df.loc[(df[\"EPIDURAL\"]==\"si\")]\n",
    "esi.describe()"
   ]
  },
  {
   "cell_type": "code",
   "execution_count": 12,
   "metadata": {},
   "outputs": [
    {
     "data": {
      "text/html": [
       "<div>\n",
       "<style scoped>\n",
       "    .dataframe tbody tr th:only-of-type {\n",
       "        vertical-align: middle;\n",
       "    }\n",
       "\n",
       "    .dataframe tbody tr th {\n",
       "        vertical-align: top;\n",
       "    }\n",
       "\n",
       "    .dataframe thead th {\n",
       "        text-align: right;\n",
       "    }\n",
       "</style>\n",
       "<table border=\"1\" class=\"dataframe\">\n",
       "  <thead>\n",
       "    <tr style=\"text-align: right;\">\n",
       "      <th></th>\n",
       "      <th>Unnamed: 0</th>\n",
       "      <th>ID</th>\n",
       "      <th>edad</th>\n",
       "      <th>PESONAC</th>\n",
       "      <th>TEMP1</th>\n",
       "      <th>TEMP2</th>\n",
       "      <th>DILATACI</th>\n",
       "      <th>EXPULSIV</th>\n",
       "      <th>APGAR1</th>\n",
       "      <th>APGAR2</th>\n",
       "    </tr>\n",
       "  </thead>\n",
       "  <tbody>\n",
       "    <tr>\n",
       "      <th>count</th>\n",
       "      <td>654.000000</td>\n",
       "      <td>654.000000</td>\n",
       "      <td>654.000000</td>\n",
       "      <td>654.000000</td>\n",
       "      <td>654.000000</td>\n",
       "      <td>654.000000</td>\n",
       "      <td>654.000000</td>\n",
       "      <td>654.000000</td>\n",
       "      <td>654.000000</td>\n",
       "      <td>654.000000</td>\n",
       "    </tr>\n",
       "    <tr>\n",
       "      <th>mean</th>\n",
       "      <td>360.064220</td>\n",
       "      <td>509.603976</td>\n",
       "      <td>27.707951</td>\n",
       "      <td>3481.833792</td>\n",
       "      <td>36.465749</td>\n",
       "      <td>36.624312</td>\n",
       "      <td>218.115426</td>\n",
       "      <td>27.264428</td>\n",
       "      <td>8.412844</td>\n",
       "      <td>9.418960</td>\n",
       "    </tr>\n",
       "    <tr>\n",
       "      <th>std</th>\n",
       "      <td>208.456669</td>\n",
       "      <td>287.100509</td>\n",
       "      <td>3.582162</td>\n",
       "      <td>617.269058</td>\n",
       "      <td>0.262550</td>\n",
       "      <td>0.592272</td>\n",
       "      <td>31.349868</td>\n",
       "      <td>3.918733</td>\n",
       "      <td>0.508025</td>\n",
       "      <td>0.535429</td>\n",
       "    </tr>\n",
       "    <tr>\n",
       "      <th>min</th>\n",
       "      <td>2.000000</td>\n",
       "      <td>4.000000</td>\n",
       "      <td>19.000000</td>\n",
       "      <td>1980.000000</td>\n",
       "      <td>35.900000</td>\n",
       "      <td>35.900000</td>\n",
       "      <td>137.688694</td>\n",
       "      <td>17.211087</td>\n",
       "      <td>7.000000</td>\n",
       "      <td>8.000000</td>\n",
       "    </tr>\n",
       "    <tr>\n",
       "      <th>25%</th>\n",
       "      <td>182.250000</td>\n",
       "      <td>272.250000</td>\n",
       "      <td>25.000000</td>\n",
       "      <td>3018.000000</td>\n",
       "      <td>36.400000</td>\n",
       "      <td>36.400000</td>\n",
       "      <td>194.745444</td>\n",
       "      <td>24.343181</td>\n",
       "      <td>8.000000</td>\n",
       "      <td>9.000000</td>\n",
       "    </tr>\n",
       "    <tr>\n",
       "      <th>50%</th>\n",
       "      <td>360.000000</td>\n",
       "      <td>512.000000</td>\n",
       "      <td>27.000000</td>\n",
       "      <td>3469.750000</td>\n",
       "      <td>36.500000</td>\n",
       "      <td>36.500000</td>\n",
       "      <td>216.435815</td>\n",
       "      <td>27.054477</td>\n",
       "      <td>8.000000</td>\n",
       "      <td>9.000000</td>\n",
       "    </tr>\n",
       "    <tr>\n",
       "      <th>75%</th>\n",
       "      <td>537.750000</td>\n",
       "      <td>747.750000</td>\n",
       "      <td>30.000000</td>\n",
       "      <td>3946.100000</td>\n",
       "      <td>36.600000</td>\n",
       "      <td>36.700000</td>\n",
       "      <td>236.926447</td>\n",
       "      <td>29.615806</td>\n",
       "      <td>9.000000</td>\n",
       "      <td>10.000000</td>\n",
       "    </tr>\n",
       "    <tr>\n",
       "      <th>max</th>\n",
       "      <td>731.000000</td>\n",
       "      <td>1033.000000</td>\n",
       "      <td>45.000000</td>\n",
       "      <td>4743.000000</td>\n",
       "      <td>37.000000</td>\n",
       "      <td>39.300000</td>\n",
       "      <td>322.022161</td>\n",
       "      <td>40.252770</td>\n",
       "      <td>9.000000</td>\n",
       "      <td>10.000000</td>\n",
       "    </tr>\n",
       "  </tbody>\n",
       "</table>\n",
       "</div>"
      ],
      "text/plain": [
       "       Unnamed: 0           ID        edad      PESONAC       TEMP1  \\\n",
       "count  654.000000   654.000000  654.000000   654.000000  654.000000   \n",
       "mean   360.064220   509.603976   27.707951  3481.833792   36.465749   \n",
       "std    208.456669   287.100509    3.582162   617.269058    0.262550   \n",
       "min      2.000000     4.000000   19.000000  1980.000000   35.900000   \n",
       "25%    182.250000   272.250000   25.000000  3018.000000   36.400000   \n",
       "50%    360.000000   512.000000   27.000000  3469.750000   36.500000   \n",
       "75%    537.750000   747.750000   30.000000  3946.100000   36.600000   \n",
       "max    731.000000  1033.000000   45.000000  4743.000000   37.000000   \n",
       "\n",
       "            TEMP2    DILATACI    EXPULSIV      APGAR1      APGAR2  \n",
       "count  654.000000  654.000000  654.000000  654.000000  654.000000  \n",
       "mean    36.624312  218.115426   27.264428    8.412844    9.418960  \n",
       "std      0.592272   31.349868    3.918733    0.508025    0.535429  \n",
       "min     35.900000  137.688694   17.211087    7.000000    8.000000  \n",
       "25%     36.400000  194.745444   24.343181    8.000000    9.000000  \n",
       "50%     36.500000  216.435815   27.054477    8.000000    9.000000  \n",
       "75%     36.700000  236.926447   29.615806    9.000000   10.000000  \n",
       "max     39.300000  322.022161   40.252770    9.000000   10.000000  "
      ]
     },
     "execution_count": 12,
     "metadata": {},
     "output_type": "execute_result"
    }
   ],
   "source": [
    "#Mujeres que no se aplicaron epidural\n",
    "eno = df.loc[(df[\"EPIDURAL\"]==\"no\")]\n",
    "eno.describe()"
   ]
  },
  {
   "cell_type": "code",
   "execution_count": 13,
   "metadata": {},
   "outputs": [
    {
     "data": {
      "image/png": "[encoded data removed]",
      "text/plain": [
       "<Figure size 432x288 with 1 Axes>"
      ]
     },
     "metadata": {
      "needs_background": "light"
     },
     "output_type": "display_data"
    }
   ],
   "source": [
    "h3 = esi['edad'].hist(bins=27)"
   ]
  },
  {
   "cell_type": "code",
   "execution_count": 14,
   "metadata": {
    "scrolled": true
   },
   "outputs": [
    {
     "data": {
      "image/png": "[encoded data removed]",
      "text/plain": [
       "<Figure size 432x288 with 1 Axes>"
      ]
     },
     "metadata": {
      "needs_background": "light"
     },
     "output_type": "display_data"
    }
   ],
   "source": [
    "h4 = eno['edad'].hist(bins=27)"
   ]
  },
  {
   "cell_type": "code",
   "execution_count": 15,
   "metadata": {},
   "outputs": [
    {
     "data": {
      "image/png": "[encoded data removed]",
      "text/plain": [
       "<Figure size 432x288 with 1 Axes>"
      ]
     },
     "metadata": {
      "needs_background": "light"
     },
     "output_type": "display_data"
    }
   ],
   "source": [
    "h5 = esi['PESONAC'].hist(bins=28)"
   ]
  },
  {
   "cell_type": "code",
   "execution_count": 16,
   "metadata": {},
   "outputs": [
    {
     "data": {
      "image/png": "[encoded data removed]",
      "text/plain": [
       "<Figure size 432x288 with 1 Axes>"
      ]
     },
     "metadata": {
      "needs_background": "light"
     },
     "output_type": "display_data"
    }
   ],
   "source": [
    "h6 = eno['PESONAC'].hist(bins=28)"
   ]
  },
  {
   "cell_type": "code",
   "execution_count": 17,
   "metadata": {
    "scrolled": true
   },
   "outputs": [
    {
     "data": {
      "text/plain": [
       "inducido        36\n",
       "instrumental    21\n",
       "cesarea         20\n",
       "Name: TIPOPAR, dtype: int64"
      ]
     },
     "execution_count": 17,
     "metadata": {},
     "output_type": "execute_result"
    }
   ],
   "source": [
    "esi['TIPOPAR'].value_counts()"
   ]
  },
  {
   "cell_type": "code",
   "execution_count": 18,
   "metadata": {},
   "outputs": [
    {
     "data": {
      "text/plain": [
       "inducido        0.467532\n",
       "instrumental    0.272727\n",
       "cesarea         0.259740\n",
       "Name: TIPOPAR, dtype: float64"
      ]
     },
     "execution_count": 18,
     "metadata": {},
     "output_type": "execute_result"
    }
   ],
   "source": [
    "esi['TIPOPAR'].value_counts(normalize=True)"
   ]
  },
  {
   "cell_type": "code",
   "execution_count": 19,
   "metadata": {
    "scrolled": false
   },
   "outputs": [
    {
     "data": {
      "text/plain": [
       "inducido        290\n",
       "instrumental    214\n",
       "cesarea         150\n",
       "Name: TIPOPAR, dtype: int64"
      ]
     },
     "execution_count": 19,
     "metadata": {},
     "output_type": "execute_result"
    }
   ],
   "source": [
    "eno['TIPOPAR'].value_counts()"
   ]
  },
  {
   "cell_type": "code",
   "execution_count": 20,
   "metadata": {},
   "outputs": [
    {
     "data": {
      "text/plain": [
       "inducido        0.443425\n",
       "instrumental    0.327217\n",
       "cesarea         0.229358\n",
       "Name: TIPOPAR, dtype: float64"
      ]
     },
     "execution_count": 20,
     "metadata": {},
     "output_type": "execute_result"
    }
   ],
   "source": [
    "eno['TIPOPAR'].value_counts(normalize=True)"
   ]
  },
  {
   "cell_type": "code",
   "execution_count": 21,
   "metadata": {
    "scrolled": true
   },
   "outputs": [
    {
     "data": {
      "text/plain": [
       "no    67\n",
       "si    10\n",
       "Name: OXITOCIN, dtype: int64"
      ]
     },
     "execution_count": 21,
     "metadata": {},
     "output_type": "execute_result"
    }
   ],
   "source": [
    "esi['OXITOCIN'].value_counts()"
   ]
  },
  {
   "cell_type": "code",
   "execution_count": 22,
   "metadata": {},
   "outputs": [
    {
     "data": {
      "text/plain": [
       "no    0.87013\n",
       "si    0.12987\n",
       "Name: OXITOCIN, dtype: float64"
      ]
     },
     "execution_count": 22,
     "metadata": {},
     "output_type": "execute_result"
    }
   ],
   "source": [
    "esi['OXITOCIN'].value_counts(normalize=True)"
   ]
  },
  {
   "cell_type": "code",
   "execution_count": 23,
   "metadata": {
    "scrolled": true
   },
   "outputs": [
    {
     "data": {
      "text/plain": [
       "no    550\n",
       "si    104\n",
       "Name: OXITOCIN, dtype: int64"
      ]
     },
     "execution_count": 23,
     "metadata": {},
     "output_type": "execute_result"
    }
   ],
   "source": [
    "eno['OXITOCIN'].value_counts()"
   ]
  },
  {
   "cell_type": "code",
   "execution_count": 24,
   "metadata": {},
   "outputs": [
    {
     "data": {
      "text/plain": [
       "no    0.840979\n",
       "si    0.159021\n",
       "Name: OXITOCIN, dtype: float64"
      ]
     },
     "execution_count": 24,
     "metadata": {},
     "output_type": "execute_result"
    }
   ],
   "source": [
    "eno['OXITOCIN'].value_counts(normalize=True)"
   ]
  },
  {
   "cell_type": "markdown",
   "metadata": {},
   "source": [
    "# Inciso C"
   ]
  },
  {
   "cell_type": "code",
   "execution_count": 25,
   "metadata": {},
   "outputs": [
    {
     "data": {
      "text/plain": [
       "no    654\n",
       "si     77\n",
       "Name: EPIDURAL, dtype: int64"
      ]
     },
     "execution_count": 25,
     "metadata": {},
     "output_type": "execute_result"
    }
   ],
   "source": [
    "df['EPIDURAL'].value_counts()"
   ]
  },
  {
   "cell_type": "code",
   "execution_count": 26,
   "metadata": {},
   "outputs": [
    {
     "data": {
      "text/plain": [
       "no    0.894665\n",
       "si    0.105335\n",
       "Name: EPIDURAL, dtype: float64"
      ]
     },
     "execution_count": 26,
     "metadata": {},
     "output_type": "execute_result"
    }
   ],
   "source": [
    "df['EPIDURAL'].value_counts(normalize=True)"
   ]
  },
  {
   "cell_type": "markdown",
   "metadata": {},
   "source": [
    "# Inciso D"
   ]
  },
  {
   "cell_type": "code",
   "execution_count": 27,
   "metadata": {
    "scrolled": true
   },
   "outputs": [
    {
     "data": {
      "text/html": [
       "<div>\n",
       "<style scoped>\n",
       "    .dataframe tbody tr th:only-of-type {\n",
       "        vertical-align: middle;\n",
       "    }\n",
       "\n",
       "    .dataframe tbody tr th {\n",
       "        vertical-align: top;\n",
       "    }\n",
       "\n",
       "    .dataframe thead th {\n",
       "        text-align: right;\n",
       "    }\n",
       "</style>\n",
       "<table border=\"1\" class=\"dataframe\">\n",
       "  <thead>\n",
       "    <tr style=\"text-align: right;\">\n",
       "      <th></th>\n",
       "      <th>TEMP1</th>\n",
       "      <th>TEMP2</th>\n",
       "    </tr>\n",
       "  </thead>\n",
       "  <tbody>\n",
       "    <tr>\n",
       "      <th>count</th>\n",
       "      <td>731.000000</td>\n",
       "      <td>731.000000</td>\n",
       "    </tr>\n",
       "    <tr>\n",
       "      <th>mean</th>\n",
       "      <td>36.469494</td>\n",
       "      <td>36.774419</td>\n",
       "    </tr>\n",
       "    <tr>\n",
       "      <th>std</th>\n",
       "      <td>0.261161</td>\n",
       "      <td>0.759354</td>\n",
       "    </tr>\n",
       "    <tr>\n",
       "      <th>min</th>\n",
       "      <td>35.900000</td>\n",
       "      <td>35.900000</td>\n",
       "    </tr>\n",
       "    <tr>\n",
       "      <th>25%</th>\n",
       "      <td>36.400000</td>\n",
       "      <td>36.400000</td>\n",
       "    </tr>\n",
       "    <tr>\n",
       "      <th>50%</th>\n",
       "      <td>36.500000</td>\n",
       "      <td>36.500000</td>\n",
       "    </tr>\n",
       "    <tr>\n",
       "      <th>75%</th>\n",
       "      <td>36.600000</td>\n",
       "      <td>36.800000</td>\n",
       "    </tr>\n",
       "    <tr>\n",
       "      <th>max</th>\n",
       "      <td>37.000000</td>\n",
       "      <td>39.300000</td>\n",
       "    </tr>\n",
       "  </tbody>\n",
       "</table>\n",
       "</div>"
      ],
      "text/plain": [
       "            TEMP1       TEMP2\n",
       "count  731.000000  731.000000\n",
       "mean    36.469494   36.774419\n",
       "std      0.261161    0.759354\n",
       "min     35.900000   35.900000\n",
       "25%     36.400000   36.400000\n",
       "50%     36.500000   36.500000\n",
       "75%     36.600000   36.800000\n",
       "max     37.000000   39.300000"
      ]
     },
     "execution_count": 27,
     "metadata": {},
     "output_type": "execute_result"
    }
   ],
   "source": [
    "df[[\"TEMP1\",\"TEMP2\"]].describe()"
   ]
  },
  {
   "cell_type": "code",
   "execution_count": 28,
   "metadata": {
    "scrolled": true
   },
   "outputs": [
    {
     "data": {
      "text/html": [
       "<div>\n",
       "<style scoped>\n",
       "    .dataframe tbody tr th:only-of-type {\n",
       "        vertical-align: middle;\n",
       "    }\n",
       "\n",
       "    .dataframe tbody tr th {\n",
       "        vertical-align: top;\n",
       "    }\n",
       "\n",
       "    .dataframe thead th {\n",
       "        text-align: right;\n",
       "    }\n",
       "</style>\n",
       "<table border=\"1\" class=\"dataframe\">\n",
       "  <thead>\n",
       "    <tr style=\"text-align: right;\">\n",
       "      <th></th>\n",
       "      <th>TEMP1</th>\n",
       "      <th>TEMP2</th>\n",
       "    </tr>\n",
       "  </thead>\n",
       "  <tbody>\n",
       "    <tr>\n",
       "      <th>count</th>\n",
       "      <td>77.000000</td>\n",
       "      <td>77.000000</td>\n",
       "    </tr>\n",
       "    <tr>\n",
       "      <th>mean</th>\n",
       "      <td>36.501299</td>\n",
       "      <td>38.049351</td>\n",
       "    </tr>\n",
       "    <tr>\n",
       "      <th>std</th>\n",
       "      <td>0.248413</td>\n",
       "      <td>0.826951</td>\n",
       "    </tr>\n",
       "    <tr>\n",
       "      <th>min</th>\n",
       "      <td>35.900000</td>\n",
       "      <td>35.900000</td>\n",
       "    </tr>\n",
       "    <tr>\n",
       "      <th>25%</th>\n",
       "      <td>36.400000</td>\n",
       "      <td>37.900000</td>\n",
       "    </tr>\n",
       "    <tr>\n",
       "      <th>50%</th>\n",
       "      <td>36.500000</td>\n",
       "      <td>38.100000</td>\n",
       "    </tr>\n",
       "    <tr>\n",
       "      <th>75%</th>\n",
       "      <td>36.700000</td>\n",
       "      <td>38.600000</td>\n",
       "    </tr>\n",
       "    <tr>\n",
       "      <th>max</th>\n",
       "      <td>37.000000</td>\n",
       "      <td>39.300000</td>\n",
       "    </tr>\n",
       "  </tbody>\n",
       "</table>\n",
       "</div>"
      ],
      "text/plain": [
       "           TEMP1      TEMP2\n",
       "count  77.000000  77.000000\n",
       "mean   36.501299  38.049351\n",
       "std     0.248413   0.826951\n",
       "min    35.900000  35.900000\n",
       "25%    36.400000  37.900000\n",
       "50%    36.500000  38.100000\n",
       "75%    36.700000  38.600000\n",
       "max    37.000000  39.300000"
      ]
     },
     "execution_count": 28,
     "metadata": {},
     "output_type": "execute_result"
    }
   ],
   "source": [
    "# Con anestesia epidural\n",
    "esi[[\"TEMP1\",\"TEMP2\"]].describe()"
   ]
  },
  {
   "cell_type": "code",
   "execution_count": 29,
   "metadata": {},
   "outputs": [
    {
     "data": {
      "text/html": [
       "<div>\n",
       "<style scoped>\n",
       "    .dataframe tbody tr th:only-of-type {\n",
       "        vertical-align: middle;\n",
       "    }\n",
       "\n",
       "    .dataframe tbody tr th {\n",
       "        vertical-align: top;\n",
       "    }\n",
       "\n",
       "    .dataframe thead th {\n",
       "        text-align: right;\n",
       "    }\n",
       "</style>\n",
       "<table border=\"1\" class=\"dataframe\">\n",
       "  <thead>\n",
       "    <tr style=\"text-align: right;\">\n",
       "      <th></th>\n",
       "      <th>TEMP1</th>\n",
       "      <th>TEMP2</th>\n",
       "    </tr>\n",
       "  </thead>\n",
       "  <tbody>\n",
       "    <tr>\n",
       "      <th>count</th>\n",
       "      <td>654.000000</td>\n",
       "      <td>654.000000</td>\n",
       "    </tr>\n",
       "    <tr>\n",
       "      <th>mean</th>\n",
       "      <td>36.465749</td>\n",
       "      <td>36.624312</td>\n",
       "    </tr>\n",
       "    <tr>\n",
       "      <th>std</th>\n",
       "      <td>0.262550</td>\n",
       "      <td>0.592272</td>\n",
       "    </tr>\n",
       "    <tr>\n",
       "      <th>min</th>\n",
       "      <td>35.900000</td>\n",
       "      <td>35.900000</td>\n",
       "    </tr>\n",
       "    <tr>\n",
       "      <th>25%</th>\n",
       "      <td>36.400000</td>\n",
       "      <td>36.400000</td>\n",
       "    </tr>\n",
       "    <tr>\n",
       "      <th>50%</th>\n",
       "      <td>36.500000</td>\n",
       "      <td>36.500000</td>\n",
       "    </tr>\n",
       "    <tr>\n",
       "      <th>75%</th>\n",
       "      <td>36.600000</td>\n",
       "      <td>36.700000</td>\n",
       "    </tr>\n",
       "    <tr>\n",
       "      <th>max</th>\n",
       "      <td>37.000000</td>\n",
       "      <td>39.300000</td>\n",
       "    </tr>\n",
       "  </tbody>\n",
       "</table>\n",
       "</div>"
      ],
      "text/plain": [
       "            TEMP1       TEMP2\n",
       "count  654.000000  654.000000\n",
       "mean    36.465749   36.624312\n",
       "std      0.262550    0.592272\n",
       "min     35.900000   35.900000\n",
       "25%     36.400000   36.400000\n",
       "50%     36.500000   36.500000\n",
       "75%     36.600000   36.700000\n",
       "max     37.000000   39.300000"
      ]
     },
     "execution_count": 29,
     "metadata": {},
     "output_type": "execute_result"
    }
   ],
   "source": [
    "# Sin anestesia epidural\n",
    "eno[[\"TEMP1\",\"TEMP2\"]].describe()"
   ]
  },
  {
   "cell_type": "markdown",
   "metadata": {},
   "source": [
    "# Inciso E"
   ]
  },
  {
   "cell_type": "code",
   "execution_count": 30,
   "metadata": {},
   "outputs": [
    {
     "data": {
      "image/png": "[encoded data removed]",
      "text/plain": [
       "<Figure size 432x288 with 2 Axes>"
      ]
     },
     "metadata": {
      "needs_background": "light"
     },
     "output_type": "display_data"
    }
   ],
   "source": [
    "h9 = df.hist(column=\"TEMP1\",by=\"OXITOCIN\")"
   ]
  },
  {
   "cell_type": "code",
   "execution_count": 31,
   "metadata": {},
   "outputs": [
    {
     "data": {
      "image/png": "[encoded data removed]",
      "text/plain": [
       "<Figure size 432x288 with 2 Axes>"
      ]
     },
     "metadata": {
      "needs_background": "light"
     },
     "output_type": "display_data"
    }
   ],
   "source": [
    "h10 = df.hist(column=\"TEMP2\",by=\"OXITOCIN\")"
   ]
  },
  {
   "cell_type": "code",
   "execution_count": null,
   "metadata": {},
   "outputs": [],
   "source": []
  }
 ],
 "metadata": {
  "kernelspec": {
   "display_name": "Python 2",
   "language": "python",
   "name": "python2"
  },
  "language_info": {
   "codemirror_mode": {
    "name": "ipython",
    "version": 2
   },
   "file_extension": ".py",
   "mimetype": "text/x-python",
   "name": "python",
   "nbconvert_exporter": "python",
   "pygments_lexer": "ipython2",
   "version": "2.7.16"
  }
 },
 "nbformat": 4,
 "nbformat_minor": 2
}
