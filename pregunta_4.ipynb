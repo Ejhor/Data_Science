{
 "cells": [
  {
   "cell_type": "markdown",
   "metadata": {},
   "source": [
    "Pregunta 4:"
   ]
  },
  {
   "cell_type": "markdown",
   "metadata": {},
   "source": [
    "¿Qué metodologías usas para un proyecto de Data Science?, y de la metodología escogida, ¿Qué parte del proceso consideras más importante? Explicar"
   ]
  },
  {
   "cell_type": "markdown",
   "metadata": {},
   "source": [
    "Nuestro equipo está formado por físicos, así que usamos la Data Science como herramienta para comprender los diferentes fenómenos de la naturaleza.\n",
    "La metodología que usamos se base principalmente en:\n",
    "1) Encontrar una fuente de datos del fenómeno que queremos analizar, por ejemplo, una fuente de datos de la dispersión de partículas elementales son los detectores.\n",
    "2) Una vez obtenida la fuente procedemos a la recopilación de datos, en esta parte, para el mismo fenómeno, hacemos que se de el fenómeno a través de simulaciones o en la realización misma del fenómeno.\n",
    "3) Tratamiento de datos, sabemos que los datos vienen con ruido. Se desarrollan diferentes filtros para el limpiado de los datos; ya que el fenómeno es natural, la mayoría de los cortes que se hacen tienen justificación física.\n",
    "4) Generalmente se desarrolla el experimento o la simulación teniendo en claro el fenómeno que se quiere analizar, así que se desarrollan diferentes técnicas estadísticas para la verificación del fenómeno.\n",
    "5) Visualización de las variables del fenómeno a través de gráficos que relacionen las variables que lo caracterizan.\n",
    "7) Explicación del fenómeno."
   ]
  },
  {
   "cell_type": "markdown",
   "metadata": {},
   "source": [
    "Según los tipos de modelos, ¿Cuáles son los indicadores de performance para datos desbalanceados? Explicar."
   ]
  },
  {
   "cell_type": "markdown",
   "metadata": {},
   "source": [
    "A los datos desbalanceados los entendemos como un conjunto de datos que no se ajustan a las coclusiones o hipótesis predichas. Los indicadores que nos pueden ayudar a entenderlos pueden ser:\n",
    "1) exactitud: entendido como la probabilidad de clasificar bien un registro.\n",
    "2) precición: probabilidad de que la clasificación anterior sea buena.\n",
    "3) sensibilidad: probabilidad de detectar un registro positivo. Al registro positivo se entiende como el hecho que se lleve a cabo el fenómeno predicho.\n",
    "4) Curvas ROC: Curvas en función de los registros positivos y negativos."
   ]
  },
  {
   "cell_type": "markdown",
   "metadata": {},
   "source": [
    "¿Qué estrategias utilizarías para tratar problemas de overfitting? Explicar."
   ]
  },
  {
   "cell_type": "markdown",
   "metadata": {},
   "source": [
    "Los problemas de overffiting los entendemos como los relacionados a las malas predicciones que se hacen en función a los datos estudiados. Por ejemplo, en la detección de nuevas partículas, siempre se da el problema de que las señal analizada la relación a los datos de background, pues con los datos que se manejan no se puede hacer una buena predicción para la caracterización de las nuevas partículas. Algunas maneras de solucionar el problema podría ser:\n",
    "1) Obtener mayor cantidad de eventos que mejoren la caracterización de las partículas, para así obtener nuevas propiedades que eran indetectables con pocos eventos.\n",
    "2) Mejorar el filtro de datos utilizando mejores métodos estadísticos.\n",
    "3) Leímos que el CERN utiliza Inteligencia Artificial para el tratamiento de datos, pues muchas veces hay funciones de ajuste que son muy dificiles de hacer."
   ]
  },
  {
   "cell_type": "markdown",
   "metadata": {},
   "source": [
    "Se cuenta con un dataset de 2500 registros y 10 variables. ¿Considera necesario el uso de Feature Engineering? "
   ]
  },
  {
   "cell_type": "markdown",
   "metadata": {},
   "source": [
    "Entendemos al Featuring Engineering como un método de obtención de características de un conjunto de datos. Ya que en esta técnica se considera a los datos como materia prima y haciendo una analogía con la detección de partículas, consideramos: que los datos con las variables propuestas son muy pocos. "
   ]
  }
 ],
 "metadata": {
  "kernelspec": {
   "display_name": "Python 3",
   "language": "python",
   "name": "python3"
  },
  "language_info": {
   "codemirror_mode": {
    "name": "ipython",
    "version": 3
   },
   "file_extension": ".py",
   "mimetype": "text/x-python",
   "name": "python",
   "nbconvert_exporter": "python",
   "pygments_lexer": "ipython3",
   "version": "3.7.4"
  }
 },
 "nbformat": 4,
 "nbformat_minor": 2
}
