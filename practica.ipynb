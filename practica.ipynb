{
 "cells": [
  {
   "cell_type": "code",
   "execution_count": 1,
   "metadata": {},
   "outputs": [],
   "source": [
    "import pandas as pd"
   ]
  },
  {
   "cell_type": "code",
   "execution_count": 2,
   "metadata": {},
   "outputs": [
    {
     "data": {
      "text/html": [
       "<div>\n",
       "<style scoped>\n",
       "    .dataframe tbody tr th:only-of-type {\n",
       "        vertical-align: middle;\n",
       "    }\n",
       "\n",
       "    .dataframe tbody tr th {\n",
       "        vertical-align: top;\n",
       "    }\n",
       "\n",
       "    .dataframe thead th {\n",
       "        text-align: right;\n",
       "    }\n",
       "</style>\n",
       "<table border=\"1\" class=\"dataframe\">\n",
       "  <thead>\n",
       "    <tr style=\"text-align: right;\">\n",
       "      <th></th>\n",
       "      <th>Symbol</th>\n",
       "      <th>Name</th>\n",
       "      <th>LastSale</th>\n",
       "      <th>MarketCap</th>\n",
       "      <th>IPOyear</th>\n",
       "      <th>Sector</th>\n",
       "      <th>industry</th>\n",
       "      <th>Summary Quote</th>\n",
       "      <th>Unnamed: 8</th>\n",
       "    </tr>\n",
       "  </thead>\n",
       "  <tbody>\n",
       "    <tr>\n",
       "      <th>0</th>\n",
       "      <td>PIH</td>\n",
       "      <td>1347 Property Insurance Holdings, Inc.</td>\n",
       "      <td>7.150</td>\n",
       "      <td>$42.79M</td>\n",
       "      <td>2014.0</td>\n",
       "      <td>Finance</td>\n",
       "      <td>Property-Casualty Insurers</td>\n",
       "      <td>https://www.nasdaq.com/symbol/pih</td>\n",
       "      <td>NaN</td>\n",
       "    </tr>\n",
       "    <tr>\n",
       "      <th>1</th>\n",
       "      <td>PIHPP</td>\n",
       "      <td>1347 Property Insurance Holdings, Inc.</td>\n",
       "      <td>25.651</td>\n",
       "      <td>NaN</td>\n",
       "      <td>NaN</td>\n",
       "      <td>Finance</td>\n",
       "      <td>Property-Casualty Insurers</td>\n",
       "      <td>https://www.nasdaq.com/symbol/pihpp</td>\n",
       "      <td>NaN</td>\n",
       "    </tr>\n",
       "    <tr>\n",
       "      <th>2</th>\n",
       "      <td>TURN</td>\n",
       "      <td>180 Degree Capital Corp.</td>\n",
       "      <td>2.300</td>\n",
       "      <td>$71.58M</td>\n",
       "      <td>NaN</td>\n",
       "      <td>Finance</td>\n",
       "      <td>Finance/Investors Services</td>\n",
       "      <td>https://www.nasdaq.com/symbol/turn</td>\n",
       "      <td>NaN</td>\n",
       "    </tr>\n",
       "    <tr>\n",
       "      <th>3</th>\n",
       "      <td>FLWS</td>\n",
       "      <td>1-800 FLOWERS.COM, Inc.</td>\n",
       "      <td>14.450</td>\n",
       "      <td>$933.53M</td>\n",
       "      <td>1999.0</td>\n",
       "      <td>Consumer Services</td>\n",
       "      <td>Other Specialty Stores</td>\n",
       "      <td>https://www.nasdaq.com/symbol/flws</td>\n",
       "      <td>NaN</td>\n",
       "    </tr>\n",
       "    <tr>\n",
       "      <th>4</th>\n",
       "      <td>FCCY</td>\n",
       "      <td>1st Constitution Bancorp (NJ)</td>\n",
       "      <td>22.550</td>\n",
       "      <td>$188.95M</td>\n",
       "      <td>NaN</td>\n",
       "      <td>Finance</td>\n",
       "      <td>Savings Institutions</td>\n",
       "      <td>https://www.nasdaq.com/symbol/fccy</td>\n",
       "      <td>NaN</td>\n",
       "    </tr>\n",
       "  </tbody>\n",
       "</table>\n",
       "</div>"
      ],
      "text/plain": [
       "  Symbol                                    Name  LastSale MarketCap  IPOyear  \\\n",
       "0    PIH  1347 Property Insurance Holdings, Inc.     7.150   $42.79M   2014.0   \n",
       "1  PIHPP  1347 Property Insurance Holdings, Inc.    25.651       NaN      NaN   \n",
       "2   TURN                180 Degree Capital Corp.     2.300   $71.58M      NaN   \n",
       "3   FLWS                 1-800 FLOWERS.COM, Inc.    14.450  $933.53M   1999.0   \n",
       "4   FCCY           1st Constitution Bancorp (NJ)    22.550  $188.95M      NaN   \n",
       "\n",
       "              Sector                    industry  \\\n",
       "0            Finance  Property-Casualty Insurers   \n",
       "1            Finance  Property-Casualty Insurers   \n",
       "2            Finance  Finance/Investors Services   \n",
       "3  Consumer Services      Other Specialty Stores   \n",
       "4            Finance        Savings Institutions   \n",
       "\n",
       "                         Summary Quote  Unnamed: 8  \n",
       "0    https://www.nasdaq.com/symbol/pih         NaN  \n",
       "1  https://www.nasdaq.com/symbol/pihpp         NaN  \n",
       "2   https://www.nasdaq.com/symbol/turn         NaN  \n",
       "3   https://www.nasdaq.com/symbol/flws         NaN  \n",
       "4   https://www.nasdaq.com/symbol/fccy         NaN  "
      ]
     },
     "execution_count": 2,
     "metadata": {},
     "output_type": "execute_result"
    }
   ],
   "source": [
    "df = pd.read_csv(\"\\Users\\Usuario\\Jhordan\\ListaCompanias.csv\")\n",
    "df.head()"
   ]
  },
  {
   "cell_type": "code",
   "execution_count": 3,
   "metadata": {},
   "outputs": [
    {
     "data": {
      "text/html": [
       "<div>\n",
       "<style scoped>\n",
       "    .dataframe tbody tr th:only-of-type {\n",
       "        vertical-align: middle;\n",
       "    }\n",
       "\n",
       "    .dataframe tbody tr th {\n",
       "        vertical-align: top;\n",
       "    }\n",
       "\n",
       "    .dataframe thead th {\n",
       "        text-align: right;\n",
       "    }\n",
       "</style>\n",
       "<table border=\"1\" class=\"dataframe\">\n",
       "  <thead>\n",
       "    <tr style=\"text-align: right;\">\n",
       "      <th></th>\n",
       "      <th>Symbol</th>\n",
       "      <th>Name</th>\n",
       "      <th>LastSale</th>\n",
       "      <th>MarketCap</th>\n",
       "      <th>IPOyear</th>\n",
       "      <th>Sector</th>\n",
       "      <th>industry</th>\n",
       "      <th>Summary Quote</th>\n",
       "      <th>Unnamed: 8</th>\n",
       "    </tr>\n",
       "  </thead>\n",
       "  <tbody>\n",
       "    <tr>\n",
       "      <th>6862</th>\n",
       "      <td>ZUMZ</td>\n",
       "      <td>Zumiez Inc.</td>\n",
       "      <td>23.350</td>\n",
       "      <td>$594.72M</td>\n",
       "      <td>2005.0</td>\n",
       "      <td>Consumer Services</td>\n",
       "      <td>Clothing/Shoe/Accessory Stores</td>\n",
       "      <td>https://www.nasdaq.com/symbol/zumz</td>\n",
       "      <td>NaN</td>\n",
       "    </tr>\n",
       "    <tr>\n",
       "      <th>6863</th>\n",
       "      <td>ZUO</td>\n",
       "      <td>Zuora, Inc.</td>\n",
       "      <td>25.830</td>\n",
       "      <td>$2.78B</td>\n",
       "      <td>2018.0</td>\n",
       "      <td>Technology</td>\n",
       "      <td>Computer Software: Prepackaged Software</td>\n",
       "      <td>https://www.nasdaq.com/symbol/zuo</td>\n",
       "      <td>NaN</td>\n",
       "    </tr>\n",
       "    <tr>\n",
       "      <th>6864</th>\n",
       "      <td>ZYME</td>\n",
       "      <td>Zymeworks Inc.</td>\n",
       "      <td>13.390</td>\n",
       "      <td>$427.82M</td>\n",
       "      <td>2017.0</td>\n",
       "      <td>Health Care</td>\n",
       "      <td>Major Pharmaceuticals</td>\n",
       "      <td>https://www.nasdaq.com/symbol/zyme</td>\n",
       "      <td>NaN</td>\n",
       "    </tr>\n",
       "    <tr>\n",
       "      <th>6865</th>\n",
       "      <td>ZYNE</td>\n",
       "      <td>Zynerba Pharmaceuticals, Inc.</td>\n",
       "      <td>5.730</td>\n",
       "      <td>$77.71M</td>\n",
       "      <td>2015.0</td>\n",
       "      <td>Health Care</td>\n",
       "      <td>Major Pharmaceuticals</td>\n",
       "      <td>https://www.nasdaq.com/symbol/zyne</td>\n",
       "      <td>NaN</td>\n",
       "    </tr>\n",
       "    <tr>\n",
       "      <th>6866</th>\n",
       "      <td>ZNGA</td>\n",
       "      <td>Zynga Inc.</td>\n",
       "      <td>4.055</td>\n",
       "      <td>$3.48B</td>\n",
       "      <td>2011.0</td>\n",
       "      <td>Technology</td>\n",
       "      <td>EDP Services</td>\n",
       "      <td>https://www.nasdaq.com/symbol/znga</td>\n",
       "      <td>NaN</td>\n",
       "    </tr>\n",
       "  </tbody>\n",
       "</table>\n",
       "</div>"
      ],
      "text/plain": [
       "     Symbol                           Name  LastSale MarketCap  IPOyear  \\\n",
       "6862   ZUMZ                    Zumiez Inc.    23.350  $594.72M   2005.0   \n",
       "6863    ZUO                    Zuora, Inc.    25.830    $2.78B   2018.0   \n",
       "6864   ZYME                 Zymeworks Inc.    13.390  $427.82M   2017.0   \n",
       "6865   ZYNE  Zynerba Pharmaceuticals, Inc.     5.730   $77.71M   2015.0   \n",
       "6866   ZNGA                     Zynga Inc.     4.055    $3.48B   2011.0   \n",
       "\n",
       "                 Sector                                 industry  \\\n",
       "6862  Consumer Services           Clothing/Shoe/Accessory Stores   \n",
       "6863         Technology  Computer Software: Prepackaged Software   \n",
       "6864        Health Care                    Major Pharmaceuticals   \n",
       "6865        Health Care                    Major Pharmaceuticals   \n",
       "6866         Technology                             EDP Services   \n",
       "\n",
       "                           Summary Quote  Unnamed: 8  \n",
       "6862  https://www.nasdaq.com/symbol/zumz         NaN  \n",
       "6863   https://www.nasdaq.com/symbol/zuo         NaN  \n",
       "6864  https://www.nasdaq.com/symbol/zyme         NaN  \n",
       "6865  https://www.nasdaq.com/symbol/zyne         NaN  \n",
       "6866  https://www.nasdaq.com/symbol/znga         NaN  "
      ]
     },
     "execution_count": 3,
     "metadata": {},
     "output_type": "execute_result"
    }
   ],
   "source": [
    "df.tail()"
   ]
  },
  {
   "cell_type": "code",
   "execution_count": 4,
   "metadata": {},
   "outputs": [
    {
     "name": "stdout",
     "output_type": "stream",
     "text": [
      "<class 'pandas.core.frame.DataFrame'>\n",
      "RangeIndex: 6867 entries, 0 to 6866\n",
      "Data columns (total 9 columns):\n",
      "Symbol           6867 non-null object\n",
      "Name             6867 non-null object\n",
      "LastSale         6746 non-null float64\n",
      "MarketCap        5778 non-null object\n",
      "IPOyear          3056 non-null float64\n",
      "Sector           5302 non-null object\n",
      "industry         5302 non-null object\n",
      "Summary Quote    6867 non-null object\n",
      "Unnamed: 8       0 non-null float64\n",
      "dtypes: float64(3), object(6)\n",
      "memory usage: 321.9+ KB\n"
     ]
    }
   ],
   "source": [
    "df.info()"
   ]
  },
  {
   "cell_type": "code",
   "execution_count": 5,
   "metadata": {},
   "outputs": [
    {
     "data": {
      "text/plain": [
       "(6867, 9)"
      ]
     },
     "execution_count": 5,
     "metadata": {},
     "output_type": "execute_result"
    }
   ],
   "source": [
    "df.shape"
   ]
  },
  {
   "cell_type": "code",
   "execution_count": 6,
   "metadata": {},
   "outputs": [
    {
     "data": {
      "text/plain": [
       "(13734, 9)"
      ]
     },
     "execution_count": 6,
     "metadata": {},
     "output_type": "execute_result"
    }
   ],
   "source": [
    "#Agregar al DataFrame el mismo DataFrame (Duplicar)\n",
    "tdf = df.append(df)\n",
    "tdf.shape"
   ]
  },
  {
   "cell_type": "code",
   "execution_count": 7,
   "metadata": {},
   "outputs": [
    {
     "data": {
      "text/plain": [
       "(6856, 9)"
      ]
     },
     "execution_count": 7,
     "metadata": {},
     "output_type": "execute_result"
    }
   ],
   "source": [
    "#Eliminar filas duplicadas\n",
    "tdf = tdf.drop_duplicates()\n",
    "tdf.shape"
   ]
  },
  {
   "cell_type": "code",
   "execution_count": 8,
   "metadata": {},
   "outputs": [
    {
     "data": {
      "text/plain": [
       "(6856, 9)"
      ]
     },
     "execution_count": 8,
     "metadata": {},
     "output_type": "execute_result"
    }
   ],
   "source": [
    "# (inplace=True) los cambios se asignan al mismo Dataframe\n",
    "# si no se hace esto se debe asignar los cambios a un DataFrame usando \"=\"\n",
    "tdf.drop_duplicates(inplace=True)\n",
    "tdf.shape"
   ]
  },
  {
   "cell_type": "code",
   "execution_count": 9,
   "metadata": {},
   "outputs": [
    {
     "data": {
      "text/plain": [
       "(13734, 9)"
      ]
     },
     "execution_count": 9,
     "metadata": {},
     "output_type": "execute_result"
    }
   ],
   "source": [
    "tdf = df.append(df)\n",
    "tdf.shape"
   ]
  },
  {
   "cell_type": "code",
   "execution_count": 10,
   "metadata": {},
   "outputs": [
    {
     "data": {
      "text/plain": [
       "(0, 9)"
      ]
     },
     "execution_count": 10,
     "metadata": {},
     "output_type": "execute_result"
    }
   ],
   "source": [
    "# Eliminar filas duplicadas y originales\n",
    "tdf.drop_duplicates(inplace=True, keep=False)\n",
    "# Opciones: keep=first(default), keep=last, keep=False\n",
    "tdf.shape"
   ]
  },
  {
   "cell_type": "code",
   "execution_count": 11,
   "metadata": {},
   "outputs": [
    {
     "data": {
      "text/plain": [
       "Index([u'Symbol', u'Name', u'LastSale', u'MarketCap', u'IPOyear', u'Sector',\n",
       "       u'industry', u'Summary Quote', u'Unnamed: 8'],\n",
       "      dtype='object')"
      ]
     },
     "execution_count": 11,
     "metadata": {},
     "output_type": "execute_result"
    }
   ],
   "source": [
    "df.columns"
   ]
  },
  {
   "cell_type": "code",
   "execution_count": 12,
   "metadata": {},
   "outputs": [],
   "source": [
    "# Para renombrar columnas\n",
    "\n",
    "#movies_df.rename(columns={\n",
    "#        'Runtime (Minutes)': 'Runtime', \n",
    "#        'Revenue (Millions)': 'Revenue_millions'\n",
    "#    }, inplace=True)\n",
    "#movies_df.columns"
   ]
  },
  {
   "cell_type": "code",
   "execution_count": 13,
   "metadata": {},
   "outputs": [],
   "source": [
    "# Otra forma de renombrar\n",
    "\n",
    "#movies_df.columns = ['rank', 'genre', 'description', 'director', 'actors', 'year', 'runtime', \n",
    "#                     'rating', 'votes', 'revenue_millions', 'metascore']\n",
    "#movies_df.columns"
   ]
  },
  {
   "cell_type": "code",
   "execution_count": 14,
   "metadata": {},
   "outputs": [],
   "source": [
    "# Otra forma de renombrar, para cambiar a minúsculas\n",
    "\n",
    "#movies_df.columns = [col.lower() for col in movies_df]\n",
    "#movies_df.columns"
   ]
  },
  {
   "cell_type": "code",
   "execution_count": 30,
   "metadata": {},
   "outputs": [
    {
     "data": {
      "text/plain": [
       "Symbol              0\n",
       "Name                0\n",
       "LastSale          121\n",
       "MarketCap        1089\n",
       "IPOyear          3811\n",
       "Sector           1565\n",
       "industry         1565\n",
       "Summary Quote       0\n",
       "Unnamed: 8       6867\n",
       "dtype: int64"
      ]
     },
     "execution_count": 30,
     "metadata": {},
     "output_type": "execute_result"
    }
   ],
   "source": [
    "# Revisa si tienes datos nulos y crea un DataFrame con valores \n",
    "# True (para datos nulos) y False (para no nulos)\n",
    "df.isnull()\n",
    "df.isnull().sum()"
   ]
  },
  {
   "cell_type": "code",
   "execution_count": 31,
   "metadata": {},
   "outputs": [],
   "source": [
    "# Elimina cualquier fila que tenga al menos un valor nulo\n",
    "#nonull = df.dropna()"
   ]
  },
  {
   "cell_type": "code",
   "execution_count": 32,
   "metadata": {},
   "outputs": [],
   "source": [
    "# Elimina cualquier columna que tenga al menos un valor nulo\n",
    "#nonull = df.dropna(axis=1)"
   ]
  },
  {
   "cell_type": "code",
   "execution_count": 35,
   "metadata": {},
   "outputs": [
    {
     "data": {
      "text/plain": [
       "0     7.150\n",
       "1    25.651\n",
       "2     2.300\n",
       "3    14.450\n",
       "4    22.550\n",
       "Name: LastSale, dtype: float64"
      ]
     },
     "execution_count": 35,
     "metadata": {},
     "output_type": "execute_result"
    }
   ],
   "source": [
    "# Saca los valores de la columna 'LastSale' como una serie\n",
    "lastsale = df['LastSale']\n",
    "lastsale.head()"
   ]
  },
  {
   "cell_type": "code",
   "execution_count": 37,
   "metadata": {},
   "outputs": [
    {
     "data": {
      "text/plain": [
       "37.935779839905074"
      ]
     },
     "execution_count": 37,
     "metadata": {},
     "output_type": "execute_result"
    }
   ],
   "source": [
    "# Calcula el valor medio de la serie\n",
    "lastsale_mean = lastsale.mean()\n",
    "lastsale_mean"
   ]
  },
  {
   "cell_type": "code",
   "execution_count": 41,
   "metadata": {},
   "outputs": [
    {
     "data": {
      "text/plain": [
       "Symbol              0\n",
       "Name                0\n",
       "LastSale            0\n",
       "MarketCap        1089\n",
       "IPOyear          3811\n",
       "Sector           1565\n",
       "industry         1565\n",
       "Summary Quote       0\n",
       "Unnamed: 8       6867\n",
       "dtype: int64"
      ]
     },
     "execution_count": 41,
     "metadata": {},
     "output_type": "execute_result"
    }
   ],
   "source": [
    "# Llena los valores nulos de la serie con el valor medio\n",
    "lastsale.fillna(lastsale_mean, inplace=True)\n",
    "df.isnull().sum()"
   ]
  },
  {
   "cell_type": "code",
   "execution_count": 42,
   "metadata": {},
   "outputs": [
    {
     "data": {
      "text/html": [
       "<div>\n",
       "<style scoped>\n",
       "    .dataframe tbody tr th:only-of-type {\n",
       "        vertical-align: middle;\n",
       "    }\n",
       "\n",
       "    .dataframe tbody tr th {\n",
       "        vertical-align: top;\n",
       "    }\n",
       "\n",
       "    .dataframe thead th {\n",
       "        text-align: right;\n",
       "    }\n",
       "</style>\n",
       "<table border=\"1\" class=\"dataframe\">\n",
       "  <thead>\n",
       "    <tr style=\"text-align: right;\">\n",
       "      <th></th>\n",
       "      <th>LastSale</th>\n",
       "      <th>IPOyear</th>\n",
       "      <th>Unnamed: 8</th>\n",
       "    </tr>\n",
       "  </thead>\n",
       "  <tbody>\n",
       "    <tr>\n",
       "      <th>count</th>\n",
       "      <td>6867.000000</td>\n",
       "      <td>3056.000000</td>\n",
       "      <td>0.0</td>\n",
       "    </tr>\n",
       "    <tr>\n",
       "      <th>mean</th>\n",
       "      <td>37.935780</td>\n",
       "      <td>2008.290903</td>\n",
       "      <td>NaN</td>\n",
       "    </tr>\n",
       "    <tr>\n",
       "      <th>std</th>\n",
       "      <td>90.767836</td>\n",
       "      <td>9.243007</td>\n",
       "      <td>NaN</td>\n",
       "    </tr>\n",
       "    <tr>\n",
       "      <th>min</th>\n",
       "      <td>0.007000</td>\n",
       "      <td>1972.000000</td>\n",
       "      <td>NaN</td>\n",
       "    </tr>\n",
       "    <tr>\n",
       "      <th>25%</th>\n",
       "      <td>9.525000</td>\n",
       "      <td>2002.000000</td>\n",
       "      <td>NaN</td>\n",
       "    </tr>\n",
       "    <tr>\n",
       "      <th>50%</th>\n",
       "      <td>22.800000</td>\n",
       "      <td>2012.000000</td>\n",
       "      <td>NaN</td>\n",
       "    </tr>\n",
       "    <tr>\n",
       "      <th>75%</th>\n",
       "      <td>39.775000</td>\n",
       "      <td>2016.000000</td>\n",
       "      <td>NaN</td>\n",
       "    </tr>\n",
       "    <tr>\n",
       "      <th>max</th>\n",
       "      <td>3580.310000</td>\n",
       "      <td>2018.000000</td>\n",
       "      <td>NaN</td>\n",
       "    </tr>\n",
       "  </tbody>\n",
       "</table>\n",
       "</div>"
      ],
      "text/plain": [
       "          LastSale      IPOyear  Unnamed: 8\n",
       "count  6867.000000  3056.000000         0.0\n",
       "mean     37.935780  2008.290903         NaN\n",
       "std      90.767836     9.243007         NaN\n",
       "min       0.007000  1972.000000         NaN\n",
       "25%       9.525000  2002.000000         NaN\n",
       "50%      22.800000  2012.000000         NaN\n",
       "75%      39.775000  2016.000000         NaN\n",
       "max    3580.310000  2018.000000         NaN"
      ]
     },
     "execution_count": 42,
     "metadata": {},
     "output_type": "execute_result"
    }
   ],
   "source": [
    "df.describe()"
   ]
  },
  {
   "cell_type": "code",
   "execution_count": 43,
   "metadata": {},
   "outputs": [
    {
     "data": {
      "text/plain": [
       "count        5302\n",
       "unique         12\n",
       "top       Finance\n",
       "freq         1049\n",
       "Name: Sector, dtype: object"
      ]
     },
     "execution_count": 43,
     "metadata": {},
     "output_type": "execute_result"
    }
   ],
   "source": [
    "df['Sector'].describe()"
   ]
  },
  {
   "cell_type": "code",
   "execution_count": 44,
   "metadata": {},
   "outputs": [
    {
     "data": {
      "text/plain": [
       "Finance                  1049\n",
       "Health Care               858\n",
       "Consumer Services         829\n",
       "Technology                628\n",
       "Capital Goods             371\n",
       "Basic Industries          316\n",
       "Energy                    312\n",
       "Public Utilities          276\n",
       "Consumer Non-Durables     239\n",
       "Miscellaneous             154\n",
       "Consumer Durables         147\n",
       "Transportation            123\n",
       "Name: Sector, dtype: int64"
      ]
     },
     "execution_count": 44,
     "metadata": {},
     "output_type": "execute_result"
    }
   ],
   "source": [
    "df['Sector'].value_counts()"
   ]
  },
  {
   "cell_type": "code",
   "execution_count": 45,
   "metadata": {},
   "outputs": [
    {
     "data": {
      "text/html": [
       "<div>\n",
       "<style scoped>\n",
       "    .dataframe tbody tr th:only-of-type {\n",
       "        vertical-align: middle;\n",
       "    }\n",
       "\n",
       "    .dataframe tbody tr th {\n",
       "        vertical-align: top;\n",
       "    }\n",
       "\n",
       "    .dataframe thead th {\n",
       "        text-align: right;\n",
       "    }\n",
       "</style>\n",
       "<table border=\"1\" class=\"dataframe\">\n",
       "  <thead>\n",
       "    <tr style=\"text-align: right;\">\n",
       "      <th></th>\n",
       "      <th>LastSale</th>\n",
       "      <th>IPOyear</th>\n",
       "      <th>Unnamed: 8</th>\n",
       "    </tr>\n",
       "  </thead>\n",
       "  <tbody>\n",
       "    <tr>\n",
       "      <th>LastSale</th>\n",
       "      <td>1.000000</td>\n",
       "      <td>-0.142222</td>\n",
       "      <td>NaN</td>\n",
       "    </tr>\n",
       "    <tr>\n",
       "      <th>IPOyear</th>\n",
       "      <td>-0.142222</td>\n",
       "      <td>1.000000</td>\n",
       "      <td>NaN</td>\n",
       "    </tr>\n",
       "    <tr>\n",
       "      <th>Unnamed: 8</th>\n",
       "      <td>NaN</td>\n",
       "      <td>NaN</td>\n",
       "      <td>NaN</td>\n",
       "    </tr>\n",
       "  </tbody>\n",
       "</table>\n",
       "</div>"
      ],
      "text/plain": [
       "            LastSale   IPOyear  Unnamed: 8\n",
       "LastSale    1.000000 -0.142222         NaN\n",
       "IPOyear    -0.142222  1.000000         NaN\n",
       "Unnamed: 8       NaN       NaN         NaN"
      ]
     },
     "execution_count": 45,
     "metadata": {},
     "output_type": "execute_result"
    }
   ],
   "source": [
    "# Relación entre cada variable continua\n",
    "df.corr()"
   ]
  },
  {
   "cell_type": "code",
   "execution_count": 48,
   "metadata": {},
   "outputs": [
    {
     "data": {
      "text/plain": [
       "pandas.core.series.Series"
      ]
     },
     "execution_count": 48,
     "metadata": {},
     "output_type": "execute_result"
    }
   ],
   "source": [
    "# Extrae la columna como una serie\n",
    "sector = df['Sector']\n",
    "type(sector)"
   ]
  },
  {
   "cell_type": "code",
   "execution_count": 49,
   "metadata": {},
   "outputs": [
    {
     "data": {
      "text/plain": [
       "pandas.core.frame.DataFrame"
      ]
     },
     "execution_count": 49,
     "metadata": {},
     "output_type": "execute_result"
    }
   ],
   "source": [
    "# Extrae la columna como un DataFrame\n",
    "sector = df[['Sector']]\n",
    "type(sector)"
   ]
  },
  {
   "cell_type": "code",
   "execution_count": 53,
   "metadata": {},
   "outputs": [
    {
     "data": {
      "text/plain": [
       "pandas.core.frame.DataFrame"
      ]
     },
     "execution_count": 53,
     "metadata": {},
     "output_type": "execute_result"
    }
   ],
   "source": [
    "subset = df[['Sector', 'IPOyear']]\n",
    "type(subset)"
   ]
  },
  {
   "cell_type": "code",
   "execution_count": 54,
   "metadata": {},
   "outputs": [
    {
     "data": {
      "text/html": [
       "<div>\n",
       "<style scoped>\n",
       "    .dataframe tbody tr th:only-of-type {\n",
       "        vertical-align: middle;\n",
       "    }\n",
       "\n",
       "    .dataframe tbody tr th {\n",
       "        vertical-align: top;\n",
       "    }\n",
       "\n",
       "    .dataframe thead th {\n",
       "        text-align: right;\n",
       "    }\n",
       "</style>\n",
       "<table border=\"1\" class=\"dataframe\">\n",
       "  <thead>\n",
       "    <tr style=\"text-align: right;\">\n",
       "      <th></th>\n",
       "      <th>Sector</th>\n",
       "      <th>IPOyear</th>\n",
       "    </tr>\n",
       "  </thead>\n",
       "  <tbody>\n",
       "    <tr>\n",
       "      <th>0</th>\n",
       "      <td>Finance</td>\n",
       "      <td>2014.0</td>\n",
       "    </tr>\n",
       "    <tr>\n",
       "      <th>1</th>\n",
       "      <td>Finance</td>\n",
       "      <td>NaN</td>\n",
       "    </tr>\n",
       "    <tr>\n",
       "      <th>2</th>\n",
       "      <td>Finance</td>\n",
       "      <td>NaN</td>\n",
       "    </tr>\n",
       "    <tr>\n",
       "      <th>3</th>\n",
       "      <td>Consumer Services</td>\n",
       "      <td>1999.0</td>\n",
       "    </tr>\n",
       "    <tr>\n",
       "      <th>4</th>\n",
       "      <td>Finance</td>\n",
       "      <td>NaN</td>\n",
       "    </tr>\n",
       "  </tbody>\n",
       "</table>\n",
       "</div>"
      ],
      "text/plain": [
       "              Sector  IPOyear\n",
       "0            Finance   2014.0\n",
       "1            Finance      NaN\n",
       "2            Finance      NaN\n",
       "3  Consumer Services   1999.0\n",
       "4            Finance      NaN"
      ]
     },
     "execution_count": 54,
     "metadata": {},
     "output_type": "execute_result"
    }
   ],
   "source": [
    "subset.head()"
   ]
  },
  {
   "cell_type": "code",
   "execution_count": null,
   "metadata": {},
   "outputs": [],
   "source": []
  }
 ],
 "metadata": {
  "kernelspec": {
   "display_name": "Python 2",
   "language": "python",
   "name": "python2"
  },
  "language_info": {
   "codemirror_mode": {
    "name": "ipython",
    "version": 2
   },
   "file_extension": ".py",
   "mimetype": "text/x-python",
   "name": "python",
   "nbconvert_exporter": "python",
   "pygments_lexer": "ipython2",
   "version": "2.7.16"
  }
 },
 "nbformat": 4,
 "nbformat_minor": 2
}
