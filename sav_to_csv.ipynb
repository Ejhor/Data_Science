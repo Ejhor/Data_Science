{
 "cells": [
  {
   "cell_type": "code",
   "execution_count": 1,
   "metadata": {},
   "outputs": [],
   "source": [
    "library(foreign)"
   ]
  },
  {
   "cell_type": "code",
   "execution_count": 2,
   "metadata": {},
   "outputs": [
    {
     "name": "stderr",
     "output_type": "stream",
     "text": [
      "Warning message in read.spss(\"C:/Users/Usuario/Jhordan/epidural.sav\", to.data.frame = TRUE):\n",
      "\"C:/Users/Usuario/Jhordan/epidural.sav: long variable name mapping 'REGISTRO' to 'registro'for variable which does not exist\"Warning message in read.spss(\"C:/Users/Usuario/Jhordan/epidural.sav\", to.data.frame = TRUE):\n",
      "\"C:/Users/Usuario/Jhordan/epidural.sav: long variable name mapping 'AREA' to 'area'for variable which does not exist\"Warning message in read.spss(\"C:/Users/Usuario/Jhordan/epidural.sav\", to.data.frame = TRUE):\n",
      "\"C:/Users/Usuario/Jhordan/epidural.sav: long variable name mapping 'F_NAC' to 'f_nac'for variable which does not exist\"Warning message in read.spss(\"C:/Users/Usuario/Jhordan/epidural.sav\", to.data.frame = TRUE):\n",
      "\"C:/Users/Usuario/Jhordan/epidural.sav: long variable name mapping 'GRUPEDAD' to 'grupedad'for variable which does not exist\"Warning message in read.spss(\"C:/Users/Usuario/Jhordan/epidural.sav\", to.data.frame = TRUE):\n",
      "\"C:/Users/Usuario/Jhordan/epidural.sav: long variable name mapping 'PESO' to 'peso'for variable which does not exist\"Warning message in read.spss(\"C:/Users/Usuario/Jhordan/epidural.sav\", to.data.frame = TRUE):\n",
      "\"C:/Users/Usuario/Jhordan/epidural.sav: long variable name mapping 'TALLA' to 'talla'for variable which does not exist\"Warning message in read.spss(\"C:/Users/Usuario/Jhordan/epidural.sav\", to.data.frame = TRUE):\n",
      "\"C:/Users/Usuario/Jhordan/epidural.sav: long variable name mapping 'BUA' to 'bua'for variable which does not exist\"Warning message in read.spss(\"C:/Users/Usuario/Jhordan/epidural.sav\", to.data.frame = TRUE):\n",
      "\"C:/Users/Usuario/Jhordan/epidural.sav: long variable name mapping 'IMC' to 'imc'for variable which does not exist\"Warning message in read.spss(\"C:/Users/Usuario/Jhordan/epidural.sav\", to.data.frame = TRUE):\n",
      "\"C:/Users/Usuario/Jhordan/epidural.sav: long variable name mapping 'CLASIFIC' to 'clasific'for variable which does not exist\"Warning message in read.spss(\"C:/Users/Usuario/Jhordan/epidural.sav\", to.data.frame = TRUE):\n",
      "\"C:/Users/Usuario/Jhordan/epidural.sav: long variable name mapping 'MENARQUI' to 'menarqui'for variable which does not exist\"Warning message in read.spss(\"C:/Users/Usuario/Jhordan/epidural.sav\", to.data.frame = TRUE):\n",
      "\"C:/Users/Usuario/Jhordan/epidural.sav: long variable name mapping 'EDAD_MEN' to 'edad_men'for variable which does not exist\"Warning message in read.spss(\"C:/Users/Usuario/Jhordan/epidural.sav\", to.data.frame = TRUE):\n",
      "\"C:/Users/Usuario/Jhordan/epidural.sav: long variable name mapping 'MENOP' to 'menop'for variable which does not exist\"Warning message in read.spss(\"C:/Users/Usuario/Jhordan/epidural.sav\", to.data.frame = TRUE):\n",
      "\"C:/Users/Usuario/Jhordan/epidural.sav: long variable name mapping 'TIPO_MEN' to 'tipo_men'for variable which does not exist\"Warning message in read.spss(\"C:/Users/Usuario/Jhordan/epidural.sav\", to.data.frame = TRUE):\n",
      "\"C:/Users/Usuario/Jhordan/epidural.sav: long variable name mapping 'T_MENOP' to 't_menop'for variable which does not exist\"Warning message in read.spss(\"C:/Users/Usuario/Jhordan/epidural.sav\", to.data.frame = TRUE):\n",
      "\"C:/Users/Usuario/Jhordan/epidural.sav: long variable name mapping 'ANT_MATE' to 'ant_mate'for variable which does not exist\"Warning message in read.spss(\"C:/Users/Usuario/Jhordan/epidural.sav\", to.data.frame = TRUE):\n",
      "\"C:/Users/Usuario/Jhordan/epidural.sav: long variable name mapping 'ACTIV_LA' to 'activ_la'for variable which does not exist\"Warning message in read.spss(\"C:/Users/Usuario/Jhordan/epidural.sav\", to.data.frame = TRUE):\n",
      "\"C:/Users/Usuario/Jhordan/epidural.sav: long variable name mapping 'ACTIV_PR' to 'activ_pr'for variable which does not exist\"Warning message in read.spss(\"C:/Users/Usuario/Jhordan/epidural.sav\", to.data.frame = TRUE):\n",
      "\"C:/Users/Usuario/Jhordan/epidural.sav: long variable name mapping 'EDAD_ACT' to 'edad_act'for variable which does not exist\"Warning message in read.spss(\"C:/Users/Usuario/Jhordan/epidural.sav\", to.data.frame = TRUE):\n",
      "\"C:/Users/Usuario/Jhordan/epidural.sav: long variable name mapping 'TIPO_ACT' to 'tipo_act'for variable which does not exist\"Warning message in read.spss(\"C:/Users/Usuario/Jhordan/epidural.sav\", to.data.frame = TRUE):\n",
      "\"C:/Users/Usuario/Jhordan/epidural.sav: long variable name mapping 'MENS_EST' to 'mens_est'for variable which does not exist\"Warning message in read.spss(\"C:/Users/Usuario/Jhordan/epidural.sav\", to.data.frame = TRUE):\n",
      "\"C:/Users/Usuario/Jhordan/epidural.sav: long variable name mapping 'MENS_CIC' to 'mens_cic'for variable which does not exist\"Warning message in read.spss(\"C:/Users/Usuario/Jhordan/epidural.sav\", to.data.frame = TRUE):\n",
      "\"C:/Users/Usuario/Jhordan/epidural.sav: long variable name mapping 'MENS_REG' to 'mens_reg'for variable which does not exist\"Warning message in read.spss(\"C:/Users/Usuario/Jhordan/epidural.sav\", to.data.frame = TRUE):\n",
      "\"C:/Users/Usuario/Jhordan/epidural.sav: long variable name mapping 'NIVEL_ED' to 'nivel_ed'for variable which does not exist\"Warning message in read.spss(\"C:/Users/Usuario/Jhordan/epidural.sav\", to.data.frame = TRUE):\n",
      "\"C:/Users/Usuario/Jhordan/epidural.sav: long variable name mapping 'PARIDAD' to 'paridad'for variable which does not exist\"Warning message in read.spss(\"C:/Users/Usuario/Jhordan/epidural.sav\", to.data.frame = TRUE):\n",
      "\"C:/Users/Usuario/Jhordan/epidural.sav: long variable name mapping 'HIJO1' to 'hijo1'for variable which does not exist\"Warning message in read.spss(\"C:/Users/Usuario/Jhordan/epidural.sav\", to.data.frame = TRUE):\n",
      "\"C:/Users/Usuario/Jhordan/epidural.sav: long variable name mapping 'HIJO2' to 'hijo2'for variable which does not exist\"Warning message in read.spss(\"C:/Users/Usuario/Jhordan/epidural.sav\", to.data.frame = TRUE):\n",
      "\"C:/Users/Usuario/Jhordan/epidural.sav: long variable name mapping 'HIJO3' to 'hijo3'for variable which does not exist\"Warning message in read.spss(\"C:/Users/Usuario/Jhordan/epidural.sav\", to.data.frame = TRUE):\n",
      "\"C:/Users/Usuario/Jhordan/epidural.sav: long variable name mapping 'HIJO4' to 'hijo4'for variable which does not exist\"Warning message in read.spss(\"C:/Users/Usuario/Jhordan/epidural.sav\", to.data.frame = TRUE):\n",
      "\"C:/Users/Usuario/Jhordan/epidural.sav: long variable name mapping 'HIJO5' to 'hijo5'for variable which does not exist\"Warning message in read.spss(\"C:/Users/Usuario/Jhordan/epidural.sav\", to.data.frame = TRUE):\n",
      "\"C:/Users/Usuario/Jhordan/epidural.sav: long variable name mapping 'ABORTO1' to 'aborto1'for variable which does not exist\"Warning message in read.spss(\"C:/Users/Usuario/Jhordan/epidural.sav\", to.data.frame = TRUE):\n",
      "\"C:/Users/Usuario/Jhordan/epidural.sav: long variable name mapping 'ABORTO2' to 'aborto2'for variable which does not exist\"Warning message in read.spss(\"C:/Users/Usuario/Jhordan/epidural.sav\", to.data.frame = TRUE):\n",
      "\"C:/Users/Usuario/Jhordan/epidural.sav: long variable name mapping 'ABORTO3' to 'aborto3'for variable which does not exist\"Warning message in read.spss(\"C:/Users/Usuario/Jhordan/epidural.sav\", to.data.frame = TRUE):\n",
      "\"C:/Users/Usuario/Jhordan/epidural.sav: long variable name mapping 'ABORTO4' to 'aborto4'for variable which does not exist\"Warning message in read.spss(\"C:/Users/Usuario/Jhordan/epidural.sav\", to.data.frame = TRUE):\n",
      "\"C:/Users/Usuario/Jhordan/epidural.sav: long variable name mapping 'T_HIJO' to 't_hijo'for variable which does not exist\"Warning message in read.spss(\"C:/Users/Usuario/Jhordan/epidural.sav\", to.data.frame = TRUE):\n",
      "\"C:/Users/Usuario/Jhordan/epidural.sav: long variable name mapping 'ABORTO5' to 'aborto5'for variable which does not exist\"Warning message in read.spss(\"C:/Users/Usuario/Jhordan/epidural.sav\", to.data.frame = TRUE):\n",
      "\"C:/Users/Usuario/Jhordan/epidural.sav: long variable name mapping '@_EXPOSI' to '@_exposi'for variable which does not exist\"Warning message in read.spss(\"C:/Users/Usuario/Jhordan/epidural.sav\", to.data.frame = TRUE):\n",
      "\"C:/Users/Usuario/Jhordan/epidural.sav: long variable name mapping 'ZU' to 'zu'for variable which does not exist\"Warning message in read.spss(\"C:/Users/Usuario/Jhordan/epidural.sav\", to.data.frame = TRUE):\n",
      "\"C:/Users/Usuario/Jhordan/epidural.sav: long variable name mapping 'TU' to 'tu'for variable which does not exist\"Warning message in read.spss(\"C:/Users/Usuario/Jhordan/epidural.sav\", to.data.frame = TRUE):\n",
      "\"C:/Users/Usuario/Jhordan/epidural.sav: long variable name mapping 'FILTER_$' to 'filter_$'for variable which does not exist\""
     ]
    }
   ],
   "source": [
    "data = read.spss('C:/Users/Usuario/Jhordan/epidural.sav', to.data.frame=TRUE)\n",
    "write.csv(data, file='C:/Users/Usuario/Jhordan/epidural_edit.csv')"
   ]
  },
  {
   "cell_type": "code",
   "execution_count": null,
   "metadata": {},
   "outputs": [],
   "source": []
  }
 ],
 "metadata": {
  "kernelspec": {
   "display_name": "R",
   "language": "R",
   "name": "ir"
  },
  "language_info": {
   "codemirror_mode": "r",
   "file_extension": ".r",
   "mimetype": "text/x-r-source",
   "name": "R",
   "pygments_lexer": "r",
   "version": "3.6.1"
  }
 },
 "nbformat": 4,
 "nbformat_minor": 2
}
